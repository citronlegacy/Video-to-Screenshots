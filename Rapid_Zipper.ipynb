{
  "cells": [
    {
      "cell_type": "markdown",
      "source": [
        "# WIP Rapid Zipper\n",
        "\n",
        "| |GitHub| Colab | |\n",
        "|:--|:-:|:-:|:-:|\n",
        "| 🎬 **Video To Screenshots** | [![GitHub](https://img.shields.io/badge/GitHub-Visit-brightgreen.svg)](https://github.com/citronlegacy/Video-to-Screenshots/blob/main/Video-to-Screenshots.ipynb) | [![Open in Colab](https://colab.research.google.com/assets/colab-badge.svg)](https://colab.research.google.com/github/citronlegacy/Video-to-Screenshots/blob/main/Video-to-Screenshots.ipynb) |\n",
        "| 🎬 **Youtube Video to Screenshots** | [![GitHub](https://img.shields.io/badge/GitHub-Visit-brightgreen.svg)](https://github.com/citronlegacy/Video-to-Screenshots/blob/main/Youtube-Video-to-Screenshots.ipynb) | [![Open in Colab](https://colab.research.google.com/assets/colab-badge.svg)](https://colab.research.google.com/github/citronlegacy/Video-to-Screenshots/blob/main/Youtube-Video-to-Screenshots.ipynb) |\n",
        "\n",
        "### Project Description\n",
        "\n",
        "This Google Colab notebook is a project for zipping folders in Google Drive\n",
        "### Libraries Used\n",
        "\n",
        "- **os:** A module for interacting with the operating system, providing functionality to manage directories and files.\n",
        "- **shutil:** A module for file operations and high-level file operations.\n",
        "- **zipfile:** A module for working with ZIP archives.\n",
        "- **tqdm:** A library for displaying progress bars in Python.\n",
        "\n",
        "\n",
        "### Project Disclaimer\n",
        "\n",
        "This Colab notebook is provided for educational and informational purposes only. The content and code within this notebook are not intended for production use, and any actions taken based on the provided information are at your own risk.\n",
        "\n",
        "---"
      ],
      "metadata": {
        "id": "h_0O5gb6cgPc"
      }
    },
    {
      "cell_type": "code",
      "source": [
        "#@markdown ### Setup Connect to Google Drive and Install Dependences\n",
        "\n",
        "import os\n",
        "import time\n",
        "from google.colab.output import clear as clear_output\n",
        "if not os.path.exists('/content/drive'):\n",
        "    from google.colab import drive\n",
        "    print(\"📂 Connecting to Google Drive...\")\n",
        "    drive.mount('/content/drive')\n",
        "\n",
        "import shutil\n",
        "from tqdm import tqdm\n",
        "import zipfile\n",
        "\n",
        "def get_directory(directory_location, project_name):\n",
        "    if \"Google Drive\" in directory_location:\n",
        "        return os.path.join(\"/content/drive/MyDrive/\", project_name)\n",
        "    else:\n",
        "        return os.path.join(\"/content\", project_name)\n",
        "\n",
        "def delete_directory(directory_path):\n",
        "    try:\n",
        "        # Delete the directory and its contents\n",
        "        shutil.rmtree(directory_path)\n",
        "        print(f\"Directory '{directory_path}' successfully deleted.\")\n",
        "    except Exception as e:\n",
        "        print(f\"Error deleting directory '{directory_path}': {e}\")\n"
      ],
      "metadata": {
        "id": "x_xaxQL57ImS",
        "cellView": "form"
      },
      "execution_count": null,
      "outputs": []
    },
    {
      "cell_type": "code",
      "source": [
        "folder_to_zip_location = \"Directory in Google Drive (/content/drive/MyDrive/)\" #@param [\"Directory in Colab (/content/)\", \"Directory in Google Drive (/content/drive/MyDrive/)\"]\n",
        "zip_output_location = \"Directory in Google Drive (/content/drive/MyDrive/)\" #@param [\"Directory in Colab (/content/)\", \"Directory in Google Drive (/content/drive/MyDrive/)\"]\n",
        "\n",
        "path_to_folder = \"\" #@param {type:\"string\"}\n",
        "folder_name = \"\" #@param {type:\"string\"}\n",
        "\n",
        "delete_directory_after_zipping = False #@param {type:\"boolean\"}\n",
        "\n",
        "directory_to_zip = os.path.join(get_directory(folder_to_zip_location, path_to_folder), folder_name)\n",
        "zip_output_directory = get_directory(zip_output_location, path_to_folder)\n",
        "\n",
        "if(not os.path.exists(directory_to_zip)):\n",
        "  print(\"Error Folder does not exist\")\n",
        "\n",
        "\n",
        "def zip_directory(directory_path, output_location):\n",
        "    # Validate if the provided path is a directory\n",
        "    if not os.path.isdir(directory_path):\n",
        "        print(f\"Error: '{directory_path}' is not a valid directory.\")\n",
        "        return\n",
        "\n",
        "    # Get the name of the directory\n",
        "    directory_name = os.path.basename(directory_path)\n",
        "\n",
        "    # Log the number of files in the folder before zipping\n",
        "    file_count_before = sum([len(files) for _, _, files in os.walk(directory_path)])\n",
        "    print(f\"Number of files in '{directory_name}' before zipping: {file_count_before}\")\n",
        "\n",
        "    # Set up progress bar\n",
        "    total_files = sum([len(files) for _, _, files in os.walk(directory_path)])\n",
        "    progress_bar = tqdm(total=total_files, desc=\"Zipping files\", unit=\"file\")\n",
        "\n",
        "    # Determine the output location for the zip file\n",
        "    if output_location:\n",
        "        zip_file_path = os.path.join(output_location, f\"{directory_name}.zip\")\n",
        "    else:\n",
        "        zip_file_path = os.path.join(directory_path, f\"{directory_name}.zip\")\n",
        "\n",
        "    with zipfile.ZipFile(zip_file_path, 'w', zipfile.ZIP_DEFLATED) as zip_file:\n",
        "        for root, _, files in os.walk(directory_path):\n",
        "            for file in files:\n",
        "                file_path = os.path.join(root, file)\n",
        "                arcname = os.path.relpath(file_path, directory_path)\n",
        "\n",
        "                # Add file to the zip file\n",
        "                zip_file.write(file_path, arcname=arcname)\n",
        "\n",
        "                # Update progress bar\n",
        "                progress_bar.update(1)\n",
        "\n",
        "    # Close progress bar\n",
        "    progress_bar.close()\n",
        "\n",
        "    # Log the file size of the zip after it's done\n",
        "    zip_file_size = os.path.getsize(zip_file_path)\n",
        "    print(f\"File size of '{directory_name}.zip': {zip_file_size / (1024 * 1024):.2f} MB\")\n",
        "\n",
        "    # Output the name of the new zip file\n",
        "    print(f\"Zip file created: {zip_file_path}\")\n",
        "\n",
        "\n",
        "zip_directory(directory_to_zip, zip_output_directory)\n",
        "\n",
        "if (delete_directory_after_zipping):\n",
        "    delete_directory(directory_to_zip)\n"
      ],
      "metadata": {
        "id": "kr4XCFj0Gvw0",
        "cellView": "form"
      },
      "execution_count": null,
      "outputs": []
    },
    {
      "cell_type": "code",
      "source": [
        "#@markdown Duplicate a folder\n",
        "main_dir      = os.path.join(\"/content\", \"drive/MyDrive/lora_training\")\n",
        "\n",
        "local_var_working_dir = os.path.join(main_dir, \"datasets\")\n",
        "folder_to_duplicate = \"\" #@param {type:\"string\"}\n",
        "duplicate_folder_name = \"\" #@param {type:\"string\"}\n",
        "\n",
        "%ls\n",
        "%cp -av {local_var_working_dir}/{folder_to_duplicate} {local_var_working_dir}/{duplicate_folder_name}\n"
      ],
      "metadata": {
        "id": "MnnpS58alGzu",
        "cellView": "form"
      },
      "execution_count": null,
      "outputs": []
    }
  ],
  "metadata": {
    "colab": {
      "provenance": [],
      "private_outputs": true
    },
    "kernelspec": {
      "display_name": "Python 3",
      "name": "python3"
    },
    "language_info": {
      "name": "python"
    }
  },
  "nbformat": 4,
  "nbformat_minor": 0
}